{
 "cells": [
  {
   "cell_type": "code",
   "execution_count": 2,
   "id": "initial_id",
   "metadata": {
    "collapsed": true,
    "ExecuteTime": {
     "end_time": "2024-05-14T03:03:30.623840Z",
     "start_time": "2024-05-14T03:03:30.246814Z"
    }
   },
   "outputs": [],
   "source": [
    "from pyspark.sql import SparkSession\n",
    "\n",
    "spark = SparkSession.builder.appName(\"ETL\").getOrCreate()\n",
    "spark.sparkContext.setLogLevel(\"WARN\")\n"
   ]
  },
  {
   "cell_type": "markdown",
   "source": [
    "## Load Data"
   ],
   "metadata": {
    "collapsed": false
   },
   "id": "92143cb2a4d84cbf"
  },
  {
   "cell_type": "code",
   "outputs": [
    {
     "name": "stdout",
     "output_type": "stream",
     "text": [
      "+-----------+-------+--------------------------------------------------------------------+--------+\n",
      "|category   |city   |heading                                                             |section |\n",
      "+-----------+-------+--------------------------------------------------------------------+--------+\n",
      "|cell-phones|newyork|New batteries C-S2 for Blackberry 7100/7130/8700/Curve/Pearl        |for-sale|\n",
      "|cell-phones|newyork|*******   Brand New Original SAMSUNG GALAXY NOTE 2 BATTERY ******   |for-sale|\n",
      "|cell-phones|newyork|SAMSUNG GALAXY SIII T-999 MARBLE WHITE T-MOBILE SMARTPHONE BRAND NEW|for-sale|\n",
      "|cell-phones|newyork|Ipad mini 64gb 4g any sim unlock                                    |for-sale|\n",
      "|cell-phones|newyork|htc evo 4g lte for trade                                            |for-sale|\n",
      "+-----------+-------+--------------------------------------------------------------------+--------+\n"
     ]
    }
   ],
   "source": [
    "df = spark.read.json('../data/input/training.json')\n",
    "df.show(truncate=False, n=5)"
   ],
   "metadata": {
    "collapsed": false,
    "ExecuteTime": {
     "end_time": "2024-05-14T03:04:55.514241Z",
     "start_time": "2024-05-14T03:04:55.213472Z"
    }
   },
   "id": "ed516e9bcb8645e6",
   "execution_count": 5
  },
  {
   "cell_type": "markdown",
   "source": [
    "## Data Exploration"
   ],
   "metadata": {
    "collapsed": false
   },
   "id": "b1c6a344eaa0a404"
  },
  {
   "cell_type": "code",
   "outputs": [
    {
     "name": "stdout",
     "output_type": "stream",
     "text": [
      "+-----------+-------+--------------------------------------------------------------------+--------+\n",
      "|CATEGORY   |CITY   |HEADING                                                             |SECTION |\n",
      "+-----------+-------+--------------------------------------------------------------------+--------+\n",
      "|cell-phones|newyork|New batteries C-S2 for Blackberry 7100/7130/8700/Curve/Pearl        |for-sale|\n",
      "|cell-phones|newyork|*******   Brand New Original SAMSUNG GALAXY NOTE 2 BATTERY ******   |for-sale|\n",
      "|cell-phones|newyork|SAMSUNG GALAXY SIII T-999 MARBLE WHITE T-MOBILE SMARTPHONE BRAND NEW|for-sale|\n",
      "|cell-phones|newyork|Ipad mini 64gb 4g any sim unlock                                    |for-sale|\n",
      "|cell-phones|newyork|htc evo 4g lte for trade                                            |for-sale|\n",
      "+-----------+-------+--------------------------------------------------------------------+--------+\n"
     ]
    }
   ],
   "source": [
    "df_uppercase = df.toDF(*(c.upper() for c in df.columns))\n",
    "df_uppercase.show(truncate=False, n=5)"
   ],
   "metadata": {
    "collapsed": false,
    "ExecuteTime": {
     "end_time": "2024-05-14T03:06:53.339755Z",
     "start_time": "2024-05-14T03:06:53.275055Z"
    }
   },
   "id": "a0b8a0635338cdd8",
   "execution_count": 6
  },
  {
   "cell_type": "code",
   "outputs": [
    {
     "name": "stderr",
     "output_type": "stream",
     "text": [
      "                                                                                \r"
     ]
    }
   ],
   "source": [
    "df_uppercase.write.mode('overwrite').parquet('../data/input/training.parquet')"
   ],
   "metadata": {
    "collapsed": false,
    "ExecuteTime": {
     "end_time": "2024-05-14T03:08:21.193652Z",
     "start_time": "2024-05-14T03:08:20.506997Z"
    }
   },
   "id": "a6ddcdd53c81f035",
   "execution_count": 7
  },
  {
   "cell_type": "code",
   "outputs": [
    {
     "name": "stdout",
     "output_type": "stream",
     "text": [
      "+-----------+-------+--------------------------------------------------------------------+--------+\n",
      "|CATEGORY   |CITY   |HEADING                                                             |SECTION |\n",
      "+-----------+-------+--------------------------------------------------------------------+--------+\n",
      "|cell-phones|newyork|New batteries C-S2 for Blackberry 7100/7130/8700/Curve/Pearl        |for-sale|\n",
      "|cell-phones|newyork|*******   Brand New Original SAMSUNG GALAXY NOTE 2 BATTERY ******   |for-sale|\n",
      "|cell-phones|newyork|SAMSUNG GALAXY SIII T-999 MARBLE WHITE T-MOBILE SMARTPHONE BRAND NEW|for-sale|\n",
      "|cell-phones|newyork|Ipad mini 64gb 4g any sim unlock                                    |for-sale|\n",
      "|cell-phones|newyork|htc evo 4g lte for trade                                            |for-sale|\n",
      "+-----------+-------+--------------------------------------------------------------------+--------+\n"
     ]
    }
   ],
   "source": [
    "df_training = spark.read.parquet('../data/input/training.parquet')\n",
    "df_training.show(truncate=False, n=5)"
   ],
   "metadata": {
    "collapsed": false,
    "ExecuteTime": {
     "end_time": "2024-05-14T03:08:59.678630Z",
     "start_time": "2024-05-14T03:08:59.474628Z"
    }
   },
   "id": "43be775892dd42c9",
   "execution_count": 8
  },
  {
   "cell_type": "code",
   "outputs": [
    {
     "name": "stdout",
     "output_type": "stream",
     "text": [
      "+---------+-----------------------------------------------------------+--------+\n",
      "|city     |heading                                                    |section |\n",
      "+---------+-----------------------------------------------------------+--------+\n",
      "|chicago  |Madden NFL 25 XBOX 360. Brand New!                         |for-sale|\n",
      "|paris.en | looking for room to rent.                                 |housing |\n",
      "|newyork  |two DS game                                                |for-sale|\n",
      "|seattle  |map                                                        |housing |\n",
      "|singapore|Good Looking Asian Sensation N aughty Girl ---- Independent|services|\n",
      "+---------+-----------------------------------------------------------+--------+\n"
     ]
    }
   ],
   "source": [
    "df_input = spark.read.json('../data/input/input00.txt')\n",
    "df_input.show(truncate=False, n=5)"
   ],
   "metadata": {
    "collapsed": false,
    "ExecuteTime": {
     "end_time": "2024-05-14T03:10:32.741671Z",
     "start_time": "2024-05-14T03:10:32.605787Z"
    }
   },
   "id": "d005c4a17327139f",
   "execution_count": 11
  },
  {
   "cell_type": "code",
   "outputs": [
    {
     "name": "stdout",
     "output_type": "stream",
     "text": [
      "+---------+-----------------------------------------------------------+--------+\n",
      "|CITY     |HEADING                                                    |SECTION |\n",
      "+---------+-----------------------------------------------------------+--------+\n",
      "|chicago  |Madden NFL 25 XBOX 360. Brand New!                         |for-sale|\n",
      "|paris.en | looking for room to rent.                                 |housing |\n",
      "|newyork  |two DS game                                                |for-sale|\n",
      "|seattle  |map                                                        |housing |\n",
      "|singapore|Good Looking Asian Sensation N aughty Girl ---- Independent|services|\n",
      "+---------+-----------------------------------------------------------+--------+\n"
     ]
    }
   ],
   "source": [
    "df_input_uppercase = df_input.toDF(*(c.upper() for c in df_input.columns))\n",
    "df_input_uppercase.show(truncate=False, n=5)"
   ],
   "metadata": {
    "collapsed": false,
    "ExecuteTime": {
     "end_time": "2024-05-14T03:11:04.129911Z",
     "start_time": "2024-05-14T03:11:04.077564Z"
    }
   },
   "id": "b14070cedb82df43",
   "execution_count": 12
  },
  {
   "cell_type": "code",
   "outputs": [],
   "source": [
    "df_input_uppercase.write.mode('overwrite').parquet('../data/input/input00.parquet')"
   ],
   "metadata": {
    "collapsed": false,
    "ExecuteTime": {
     "end_time": "2024-05-14T03:11:18.970654Z",
     "start_time": "2024-05-14T03:11:18.800190Z"
    }
   },
   "id": "739fd6d1d7fc6974",
   "execution_count": 13
  },
  {
   "cell_type": "code",
   "outputs": [
    {
     "name": "stdout",
     "output_type": "stream",
     "text": [
      "+---------+-----------------------------------------------------------+--------+\n",
      "|CITY     |HEADING                                                    |SECTION |\n",
      "+---------+-----------------------------------------------------------+--------+\n",
      "|chicago  |Madden NFL 25 XBOX 360. Brand New!                         |for-sale|\n",
      "|paris.en | looking for room to rent.                                 |housing |\n",
      "|newyork  |two DS game                                                |for-sale|\n",
      "|seattle  |map                                                        |housing |\n",
      "|singapore|Good Looking Asian Sensation N aughty Girl ---- Independent|services|\n",
      "+---------+-----------------------------------------------------------+--------+\n"
     ]
    }
   ],
   "source": [
    "df_input_parquet = spark.read.parquet('../data/input/input00.parquet')\n",
    "df_input_parquet.show(truncate=False, n=5)"
   ],
   "metadata": {
    "collapsed": false,
    "ExecuteTime": {
     "end_time": "2024-05-14T03:11:48.752295Z",
     "start_time": "2024-05-14T03:11:48.663165Z"
    }
   },
   "id": "83e4b48faa6b6652",
   "execution_count": 15
  }
 ],
 "metadata": {
  "kernelspec": {
   "display_name": "Python 3",
   "language": "python",
   "name": "python3"
  },
  "language_info": {
   "codemirror_mode": {
    "name": "ipython",
    "version": 2
   },
   "file_extension": ".py",
   "mimetype": "text/x-python",
   "name": "python",
   "nbconvert_exporter": "python",
   "pygments_lexer": "ipython2",
   "version": "2.7.6"
  }
 },
 "nbformat": 4,
 "nbformat_minor": 5
}
